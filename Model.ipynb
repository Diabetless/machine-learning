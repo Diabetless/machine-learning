{
  "nbformat": 4,
  "nbformat_minor": 0,
  "metadata": {
    "colab": {
      "provenance": [],
      "collapsed_sections": [
        "P7Ts8aVZn2xw",
        "wwU8mQxQ4Za8"
      ]
    },
    "kernelspec": {
      "name": "python3",
      "display_name": "Python 3"
    },
    "language_info": {
      "name": "python"
    }
  },
  "cells": [
    {
      "cell_type": "markdown",
      "source": [
        "# Load Dataset"
      ],
      "metadata": {
        "id": "n4VXm60U4RSN"
      }
    },
    {
      "cell_type": "markdown",
      "source": [
        "## Download Dataset from Google Drive"
      ],
      "metadata": {
        "id": "TGwUjwgsnlIs"
      }
    },
    {
      "cell_type": "code",
      "source": [
        "!gdown 186HlpFc60T0jWYrJPodAJNtYK6Hgr2tg"
      ],
      "metadata": {
        "colab": {
          "base_uri": "https://localhost:8080/"
        },
        "id": "arQfHRxPnO0i",
        "outputId": "001dea32-2e0c-493c-8e8a-077e4fe64a3d"
      },
      "execution_count": null,
      "outputs": [
        {
          "output_type": "stream",
          "name": "stdout",
          "text": [
            "Downloading...\n",
            "From: https://drive.google.com/uc?id=186HlpFc60T0jWYrJPodAJNtYK6Hgr2tg\n",
            "To: /content/datasets.zip\n",
            "100% 187M/187M [00:02<00:00, 75.3MB/s]\n"
          ]
        }
      ]
    },
    {
      "cell_type": "code",
      "source": [
        "!gdown 1blF8nj8UZ1Hq-UVs8TP1fsQ3WfheaNYq"
      ],
      "metadata": {
        "id": "e3-ZGWKSELYi",
        "colab": {
          "base_uri": "https://localhost:8080/"
        },
        "outputId": "24639795-0627-4d93-ab93-2ba7c9e2fc93"
      },
      "execution_count": null,
      "outputs": [
        {
          "output_type": "stream",
          "name": "stdout",
          "text": [
            "Downloading...\n",
            "From: https://drive.google.com/uc?id=1blF8nj8UZ1Hq-UVs8TP1fsQ3WfheaNYq\n",
            "To: /content/data.yaml\n",
            "\r  0% 0.00/244 [00:00<?, ?B/s]\r100% 244/244 [00:00<00:00, 929kB/s]\n"
          ]
        }
      ]
    },
    {
      "cell_type": "markdown",
      "source": [
        "## Unzip dataset"
      ],
      "metadata": {
        "id": "P7Ts8aVZn2xw"
      }
    },
    {
      "cell_type": "code",
      "source": [
        "!unzip -q datasets.zip"
      ],
      "metadata": {
        "colab": {
          "base_uri": "https://localhost:8080/"
        },
        "id": "lgmU6-jjn4XE",
        "outputId": "43451bc9-8296-4c43-c30c-76b8d754c47a"
      },
      "execution_count": null,
      "outputs": [
        {
          "output_type": "stream",
          "name": "stdout",
          "text": [
            "replace datasets/test/images/apple_100.jpg? [y]es, [n]o, [A]ll, [N]one, [r]ename: "
          ]
        }
      ]
    },
    {
      "cell_type": "markdown",
      "source": [
        "## Remove Zip file"
      ],
      "metadata": {
        "id": "1t63dV764GXk"
      }
    },
    {
      "cell_type": "code",
      "source": [
        "!rm datasets.zip"
      ],
      "metadata": {
        "id": "DwWY9ypioGth"
      },
      "execution_count": null,
      "outputs": []
    },
    {
      "cell_type": "markdown",
      "source": [
        "## Download data.yaml file"
      ],
      "metadata": {
        "id": "lO7qYxozwtAH"
      }
    },
    {
      "cell_type": "code",
      "source": [
        "!gdown 1blF8nj8UZ1Hq-UVs8TP1fsQ3WfheaNYq"
      ],
      "metadata": {
        "id": "gJvXF5Z7w5AJ"
      },
      "execution_count": null,
      "outputs": []
    },
    {
      "cell_type": "markdown",
      "source": [
        "# Install Required Library"
      ],
      "metadata": {
        "id": "wwU8mQxQ4Za8"
      }
    },
    {
      "cell_type": "code",
      "source": [
        "!pip install ultralytics"
      ],
      "metadata": {
        "id": "Kvcd2ZB139z8"
      },
      "execution_count": null,
      "outputs": []
    },
    {
      "cell_type": "markdown",
      "source": [
        "# Import Necessary Library"
      ],
      "metadata": {
        "id": "vae28lfa4lrO"
      }
    },
    {
      "cell_type": "code",
      "source": [
        "from ultralytics import YOLO"
      ],
      "metadata": {
        "id": "lPIcDkdQ4B8p"
      },
      "execution_count": null,
      "outputs": []
    },
    {
      "cell_type": "markdown",
      "source": [
        "# Instantiate Model"
      ],
      "metadata": {
        "id": "hFZ9p-144t_v"
      }
    },
    {
      "cell_type": "code",
      "source": [
        "# Change the argument based on your experimental\n",
        "model = YOLO('yolov8n.pt')"
      ],
      "metadata": {
        "id": "otwLWp2Z4EVX"
      },
      "execution_count": null,
      "outputs": []
    }
  ]
}